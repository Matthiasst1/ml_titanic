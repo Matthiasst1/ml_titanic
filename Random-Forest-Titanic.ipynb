{
 "cells": [
  {
   "cell_type": "code",
   "execution_count": null,
   "metadata": {},
   "outputs": [],
   "source": [
    "### Random Forest ###\n",
    "\n",
    "\n",
    "### RandomForestClassifier \n",
    "\n",
    "from sklearn.ensemble import RandomForestClassifier \n",
    "\n",
    "y = train_data[\"Survived\"] \n",
    "\n",
    "features = [\"Pclass\", \"Sex\", \"SibSp\", \"Parch\"] \n",
    "\n",
    "X = pd.get_dummies(train_data[features]) # gibt die Liste ein und konvertiert sie in Pandas Features\n",
    "X_test = pd.get_dummies(test_data[features]) # \n",
    "print(X)\n",
    "\n",
    "model = RandomForestClassifier(n_estimators=100, max_depth=5, random_state=1) # definiert das model # Klasse/Objekt in SKLearn, Klasse RandomForestClassifier, Objekt model\n",
    "model.fit(X, y) # füttert das Model mit Daten \n",
    "\n",
    "predictions = model.predict(X_test) #Erstellt np.array mit Survived\n",
    "print(len(predictions))\n",
    "print(len(test_data))\n",
    "\n",
    "output = pd.DataFrame({'PassengerId': test_data.PassengerId, 'Survived': predictions}) #Erstellt neuen Dataframe mit Passenger und Survived Spalten\n",
    "#output.head(10)\n",
    "#output.to_csv('submission.csv', index=False) #Speichert es als CSV\n",
    "\n",
    "#dectree = DecisionTreeClassifier(max_depth=3, random_state=3)"
   ]
  }
 ],
 "metadata": {
  "kernelspec": {
   "display_name": "Python 3",
   "language": "python",
   "name": "python3"
  },
  "language_info": {
   "name": "python",
   "version": "3.8.2 (default, Apr  8 2021, 23:19:18) \n[Clang 12.0.5 (clang-1205.0.22.9)]"
  },
  "orig_nbformat": 4,
  "vscode": {
   "interpreter": {
    "hash": "31f2aee4e71d21fbe5cf8b01ff0e069b9275f58929596ceb00d14d90e3e16cd6"
   }
  }
 },
 "nbformat": 4,
 "nbformat_minor": 2
}
